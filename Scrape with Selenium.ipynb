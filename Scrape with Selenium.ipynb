{
 "cells": [
  {
   "cell_type": "code",
   "execution_count": 5,
   "metadata": {},
   "outputs": [],
   "source": [
    "import pandas as pd\n",
    "from functools import reduce\n",
    "from jupyterthemes import jtplot\n",
    "# onedork | grade3 | oceans16 | chesterish | monokai | solarizedl | solarizedd\n",
    "jtplot.style(theme='chesterish')\n",
    "\n",
    "def neatify_headers(df):\n",
    "    old_col_headers = list(df)\n",
    "    new_col_headers = [och.replace(' ', '') for och in old_col_headers]\n",
    "    rename_headers_map = {och: nch for och, nch in zip(old_col_headers, new_col_headers)}\n",
    "    return df.rename(columns=rename_headers_map)"
   ]
  },
  {
   "cell_type": "code",
   "execution_count": 6,
   "metadata": {},
   "outputs": [
    {
     "data": {
      "text/plain": [
       "['TitleID',\n",
       " 'Title',\n",
       " 'Annotation',\n",
       " 'Publisher',\n",
       " 'Copyright',\n",
       " 'OriginalCopyright',\n",
       " 'Translator',\n",
       " 'Author',\n",
       " 'Illustrator',\n",
       " 'GradeLevelSpan',\n",
       " 'Language',\n",
       " 'Genre',\n",
       " 'Classification',\n",
       " 'Culture',\n",
       " 'Topic',\n",
       " 'Discipline',\n",
       " 'Standard',\n",
       " 'Award',\n",
       " 'GradeCategory']"
      ]
     },
     "execution_count": 6,
     "metadata": {},
     "output_type": "execute_result"
    }
   ],
   "source": [
    "filenames = ('preschool_prek', 'k_2', '3_5', '6_8', '9_12')\n",
    "dfs = []\n",
    "for grade_category, filename in enumerate(filenames):\n",
    "    df = pd.read_csv(\"{}.csv\".format(filename))\n",
    "    df = neatify_headers(df)\n",
    "    df['GradeCategory'] = grade_category\n",
    "    dfs.append(df)\n",
    "df = reduce(lambda a, b: a.append(b), dfs)\n",
    "list(df)"
   ]
  },
  {
   "cell_type": "code",
   "execution_count": 49,
   "metadata": {},
   "outputs": [],
   "source": [
    "import time\n",
    "import json\n",
    "\n",
    "from selenium import webdriver\n",
    "from selenium.webdriver.common.keys import Keys\n",
    "driver = webdriver.Chrome()\n",
    "driver.get(\"https://www.penguinrandomhouse.com/books/all-middle-grade-books-childrens?page=1\")\n",
    "\n",
    "# for el in els:\n",
    "#     print(el.find_element_by_tag_name('a').get_attribute(\"href\"))\n",
    "\n",
    "times_to_scroll = json.dumps(list(range(200, 200000000, 400)))\n",
    "# return driver.execute_script(\"return window.scrollY + document.documentElement.clientHeight === document.documentElement.scrollHeight\")\n",
    "js_script = \"function slow_scroll(){window.scrollBy(0,40)}; \" + times_to_scroll + \".forEach(function(i){window.setTimeout(slow_scroll, i)});\"\n",
    "driver.execute_script(js_script)\n",
    "# driver.quit()"
   ]
  },
  {
   "cell_type": "code",
   "execution_count": 50,
   "metadata": {},
   "outputs": [],
   "source": [
    "els = driver.find_elements_by_class_name('book')\n",
    "\n",
    "with open('middle_school_hrefs.csv', 'w') as f:\n",
    "    f.write(\"href\\n\")\n",
    "    for el in els:\n",
    "        href_string = el.find_element_by_tag_name('a').get_attribute(\"href\")\n",
    "        f.write(href_string + \"\\n\")\n",
    "\n",
    "    book_hrefs.append(el.find_element_by_tag_name('a').get_attribute(\"href\"))\n"
   ]
  },
  {
   "cell_type": "code",
   "execution_count": 52,
   "metadata": {},
   "outputs": [
    {
     "data": {
      "text/plain": [
       "2100"
      ]
     },
     "execution_count": 52,
     "metadata": {},
     "output_type": "execute_result"
    }
   ],
   "source": [
    "len(book_hrefs)"
   ]
  },
  {
   "cell_type": "code",
   "execution_count": null,
   "metadata": {},
   "outputs": [],
   "source": []
  }
 ],
 "metadata": {
  "kernelspec": {
   "display_name": "Python 3",
   "language": "python",
   "name": "python3"
  },
  "language_info": {
   "codemirror_mode": {
    "name": "ipython",
    "version": 3
   },
   "file_extension": ".py",
   "mimetype": "text/x-python",
   "name": "python",
   "nbconvert_exporter": "python",
   "pygments_lexer": "ipython3",
   "version": "3.5.4"
  }
 },
 "nbformat": 4,
 "nbformat_minor": 2
}
